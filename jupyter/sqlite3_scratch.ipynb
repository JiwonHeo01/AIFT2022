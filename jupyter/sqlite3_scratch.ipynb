{
 "cells": [
  {
   "cell_type": "code",
   "execution_count": 1,
   "metadata": {},
   "outputs": [],
   "source": [
    "import pandas as pd\n",
    "from sqlalchemy import create_engine\n",
    "from tqdm.auto import tqdm\n",
    "import xml.etree.ElementTree as elemTree"
   ]
  },
  {
   "cell_type": "code",
   "execution_count": 2,
   "metadata": {},
   "outputs": [],
   "source": [
    "csv_paths = [ \n",
    "  ('069500', r'..\\data\\kodex_200.csv'),\n",
    "  ('114800', r'..\\data\\kodex_inverse.csv'),\n",
    "  ('226490', r'..\\data\\kodex_kospi.csv'),\n",
    "  ('001', r'..\\data\\kospi.csv'),\n",
    "  ('201', r'..\\data\\kospi200.csv')\n",
    "]"
   ]
  },
  {
   "cell_type": "code",
   "execution_count": 3,
   "metadata": {},
   "outputs": [
    {
     "data": {
      "application/vnd.jupyter.widget-view+json": {
       "model_id": "4a9a34d6934c479fb2c088ed07c4ed5e",
       "version_major": 2,
       "version_minor": 0
      },
      "text/plain": [
       "  0%|          | 0/5 [00:00<?, ?it/s]"
      ]
     },
     "metadata": {},
     "output_type": "display_data"
    }
   ],
   "source": [
    "dfs = []\n",
    "for st_code, csv_path in tqdm(csv_paths):\n",
    "  df = pd.read_csv(csv_path, dtype={'체결시간':str})[['체결시간', '시가', '고가', '저가', '현재가', '거래량']]\n",
    "  df.columns = ['dt', 'open', 'high', 'low', 'close', 'volume']\n",
    "  # sqlite3에서는 datetime을 지원하지 않으므로, str로 유지한다.\n",
    "  # df['dt'] = pd.to_datetime(df['dt'], format='%Y%m%d%H%M%S')\n",
    "  df['st_code'] = st_code\n",
    "  for col in ['open', 'high', 'low', 'close', 'volume']:\n",
    "    df[col] = df[col].abs()\n",
    "  dfs.append(df)\n",
    "whole_df = pd.concat(dfs, ignore_index=True)"
   ]
  },
  {
   "cell_type": "code",
   "execution_count": 5,
   "metadata": {},
   "outputs": [],
   "source": [
    "tree = elemTree.parse(r'../config/.config.xml')\n",
    "root = tree.getroot()\n",
    "node_sqlite3 = root.find('./DBMS/sqlite3')\n",
    "config_db = {tag:node_sqlite3.find(tag).text for tag in ['database']}"
   ]
  },
  {
   "cell_type": "code",
   "execution_count": 6,
   "metadata": {},
   "outputs": [],
   "source": [
    "db_engine = create_engine(f'sqlite:///{config_db[\"database\"]}', echo=False)"
   ]
  },
  {
   "cell_type": "code",
   "execution_count": 7,
   "metadata": {},
   "outputs": [
    {
     "data": {
      "text/plain": [
       "<sqlalchemy.engine.cursor.LegacyCursorResult at 0x7ce2dd8>"
      ]
     },
     "execution_count": 7,
     "metadata": {},
     "output_type": "execute_result"
    }
   ],
   "source": [
    "db_engine.execute('DROP TABLE IF EXISTS data_in_minute')"
   ]
  },
  {
   "cell_type": "code",
   "execution_count": 8,
   "metadata": {},
   "outputs": [],
   "source": [
    "table_query = '''\n",
    "CREATE TABLE data_in_minute (\n",
    "  st_code TEXT not NULL,\n",
    "  dt TEXT not NULL,\n",
    "  open INTEGER,\n",
    "  high INTEGER,\n",
    "  low INTEGER,\n",
    "  close INTEGER,\n",
    "  volume INTEGER,\n",
    "  PRIMARY KEY (st_code, dt)\n",
    ")\n",
    "'''"
   ]
  },
  {
   "cell_type": "code",
   "execution_count": 9,
   "metadata": {},
   "outputs": [
    {
     "data": {
      "text/plain": [
       "<sqlalchemy.engine.cursor.LegacyCursorResult at 0x10a3ee38>"
      ]
     },
     "execution_count": 9,
     "metadata": {},
     "output_type": "execute_result"
    }
   ],
   "source": [
    "db_engine.execute(table_query)"
   ]
  },
  {
   "cell_type": "markdown",
   "metadata": {},
   "source": [
    "## SqlAlchemy + sqlite3 + pd.DataFrame.to_sql()"
   ]
  },
  {
   "cell_type": "markdown",
   "metadata": {},
   "source": [
    "5.2s (4.8s, 5.1s, 5.4s)"
   ]
  },
  {
   "cell_type": "code",
   "execution_count": 10,
   "metadata": {},
   "outputs": [
    {
     "data": {
      "text/plain": [
       "467847"
      ]
     },
     "execution_count": 10,
     "metadata": {},
     "output_type": "execute_result"
    }
   ],
   "source": [
    "whole_df.to_sql('data_in_minute', db_engine, if_exists='append', index=False)"
   ]
  },
  {
   "cell_type": "code",
   "execution_count": null,
   "metadata": {},
   "outputs": [],
   "source": [
    "db_engine.execute(\"select * from data_in_minute where st_code='069500' and dt >= '20220601000000'\").fetchall()"
   ]
  },
  {
   "cell_type": "markdown",
   "metadata": {},
   "source": [
    "# 주식체결 데이터 저장"
   ]
  },
  {
   "cell_type": "code",
   "execution_count": null,
   "metadata": {},
   "outputs": [],
   "source": [
    "import pandas as pd\n",
    "from sqlalchemy import create_engine\n",
    "\n",
    "class RealTimeTickDataPrivder:\n",
    "  table_query = '''\n",
    "  CREATE TABLE IF NOT EXISTS today_in_ticks (\n",
    "    st_code TEXT not NULL,\n",
    "    dt TEXT not NULL,\n",
    "    open INTEGER,\n",
    "    high INTEGER,\n",
    "    low INTEGER,\n",
    "    close INTEGER,\n",
    "    volume INTEGER\n",
    "  )\n",
    "  '''\n",
    "  index_query = '''\n",
    "  CREATE INDEX IF NOT EXISTS idx_today_in_ticks ON today_in_ticks (st_code, dt)\n",
    "  '''\n",
    "\n",
    "  insert_query = '''\n",
    "  INSERT INTO today_in_ticks (st_code, dt, open, high, low, close, volume)\n",
    "  VALUES (?, ?, ?, ?, ?, ?, ?)\n",
    "  '''\n",
    "\n",
    "  def __init__(self, db_path, in_memory_db = False, with_index=False):\n",
    "      self.engine = create_engine(f\"sqlite://\") if in_memory_db else create_engine(f\"sqlite:///{db_path}\")\n",
    "      self.with_index = with_index\n",
    "      self.create_table()\n",
    "\n",
    "  def clear_table(self):\n",
    "    with self.engine.connect() as connection:\n",
    "      connection.execute('DROP TABLE IF EXISTS today_in_ticks')\n",
    "      if self.with_index:\n",
    "        connection.execute('DROP INDEX IF EXISTS idx_today_in_ticks')\n",
    "\n",
    "  def create_table(self):\n",
    "    with self.engine.connect() as connection:\n",
    "      connection.execute(self.table_query)\n",
    "      connection.execute(self.index_query)\n",
    "  \n",
    "  def __build_data(self, real_data):\n",
    "    return (\n",
    "      real_data['code'],\n",
    "      real_data['20'], # 체결시간 (HHMMSS)\n",
    "      abs(int(real_data['16'])), # 시가 +-\n",
    "      abs(int(real_data['17'])), # 고가 +-\n",
    "      abs(int(real_data['18'])), # 저가 +-\n",
    "      abs(int(real_data['10'])), # 현재가 +-\n",
    "      abs(int(real_data['15'])), # 거래량 +-\n",
    "    )\n",
    "\n",
    "  def build_dataframe(self, real_data):\n",
    "    return pd.DataFrame(\n",
    "      [self.__build_data(real_data)],\n",
    "      columns=['st_code', 'dt', 'open', 'high', 'low', 'close', 'volume']\n",
    "    )\n",
    "\n",
    "  def insert1(self, real_data):\n",
    "    with self.engine.begin() as connection:\n",
    "      connection.execute(self.insert_query, self.__build_data(real_data))\n",
    "\n",
    "  def insert2(self, real_data):\n",
    "    self.build_dataframe(real_data).to_sql('today_in_ticks', self.engine, if_exists='append', index=False)"
   ]
  },
  {
   "cell_type": "code",
   "execution_count": null,
   "metadata": {},
   "outputs": [],
   "source": [
    "real_data = {'code': '069500', 'type': '주식체결', '20': '100645', '16': '+31345', '17': '+31370', '18': '-31215', '10': ' 31275', '15': '+50', '11': ' 0', '12': '0.00', '13': '1613182'}"
   ]
  },
  {
   "cell_type": "code",
   "execution_count": null,
   "metadata": {},
   "outputs": [],
   "source": [
    "provider = RealTimeTickDataPrivder(\"kiwoom_db.sqlite3\", in_memory_db=True, with_index=True)"
   ]
  },
  {
   "cell_type": "code",
   "execution_count": null,
   "metadata": {},
   "outputs": [],
   "source": [
    "real_data"
   ]
  },
  {
   "cell_type": "markdown",
   "metadata": {},
   "source": [
    "connection.execute()로 수행시\n",
    "- 인덱스 있을 때\n",
    "  - 10,000건 추가에 70초\n",
    "- 인덱스 없을 때\n",
    "  - 10,000건 추가에 65초\n",
    "- 인메모리\n",
    "  - 0.7초\n",
    "\n",
    "dataframe.to_sql()로 수행시\n",
    "- 인덱스 있을 때\n",
    "  - 10,000건 추가에 140초\n",
    "- 인덱스 없을 때\n",
    "  - 10,000건 추가에 141초\n",
    "- 인메모리\n",
    "  - 33초\n",
    "\n",
    "dataframe.to_sql()로 벌크 수행시 (10,000건)\n",
    "- 0.7초\n",
    "\n",
    "결론\n",
    "- 일정 주기 모아서 인서트 하는게 낫다\n",
    "- 인메모리 디비로 선택하고, 표준 SQL로 작업하는게 낫다"
   ]
  },
  {
   "cell_type": "code",
   "execution_count": null,
   "metadata": {},
   "outputs": [],
   "source": [
    "for i in range(10000):\n",
    "  real_data['20'] = f\"{i:06d}\"\n",
    "  provider.insert1(real_data)"
   ]
  },
  {
   "cell_type": "code",
   "execution_count": null,
   "metadata": {},
   "outputs": [],
   "source": [
    "for i in range(10000):\n",
    "  real_data['20'] = f\"{i:06d}\"\n",
    "  provider.insert2(real_data)"
   ]
  },
  {
   "cell_type": "code",
   "execution_count": null,
   "metadata": {},
   "outputs": [],
   "source": [
    "ll = []\n",
    "for i in range(10000):\n",
    "  real_data['20'] = f\"{i:06d}\"\n",
    "  ll.append(provider.build_dataframe(real_data))"
   ]
  },
  {
   "cell_type": "code",
   "execution_count": null,
   "metadata": {},
   "outputs": [],
   "source": [
    "pd.concat(ll, ignore_index=True).to_sql('today_in_ticks', provider.engine, if_exists='append', index=False)"
   ]
  },
  {
   "cell_type": "code",
   "execution_count": null,
   "metadata": {},
   "outputs": [],
   "source": [
    "provider.clear_table()"
   ]
  },
  {
   "cell_type": "code",
   "execution_count": null,
   "metadata": {},
   "outputs": [],
   "source": [
    "provider.create_table()"
   ]
  },
  {
   "cell_type": "code",
   "execution_count": null,
   "metadata": {},
   "outputs": [],
   "source": [
    "with provider.engine.connect() as connection:\n",
    "  rr = connection.execute('select * from today_in_ticks').fetchall()"
   ]
  }
 ],
 "metadata": {
  "kernelspec": {
   "display_name": "Python 3.8.13 ('AIFT')",
   "language": "python",
   "name": "python3"
  },
  "language_info": {
   "codemirror_mode": {
    "name": "ipython",
    "version": 3
   },
   "file_extension": ".py",
   "mimetype": "text/x-python",
   "name": "python",
   "nbconvert_exporter": "python",
   "pygments_lexer": "ipython3",
   "version": "3.8.13"
  },
  "orig_nbformat": 4,
  "vscode": {
   "interpreter": {
    "hash": "0c2ae12c4346b2ecb9fec94e26809dda0e732ea1952ffa786ba8c03239bac9b3"
   }
  }
 },
 "nbformat": 4,
 "nbformat_minor": 2
}
