{
 "cells": [
  {
   "cell_type": "code",
   "execution_count": 1,
   "metadata": {},
   "outputs": [],
   "source": [
    "import mysql.connector\n",
    "import pandas as pd\n",
    "from sqlalchemy import create_engine\n",
    "from tqdm.auto import tqdm\n",
    "import time\n",
    "import xml.etree.ElementTree as elemTree"
   ]
  },
  {
   "cell_type": "code",
   "execution_count": 2,
   "metadata": {},
   "outputs": [],
   "source": [
    "csv_paths = [ \n",
    "  ('069500', r'..\\data\\kodex_200.csv'),\n",
    "  ('114800', r'..\\data\\kodex_inverse.csv'),\n",
    "  ('226490', r'..\\data\\kodex_kospi.csv'),\n",
    "  ('001', r'..\\data\\kospi.csv'),\n",
    "  ('201', r'..\\data\\kospi200.csv')\n",
    "]"
   ]
  },
  {
   "cell_type": "code",
   "execution_count": 3,
   "metadata": {},
   "outputs": [
    {
     "data": {
      "application/vnd.jupyter.widget-view+json": {
       "model_id": "1e8c1e7d313247978709f351f2e50a56",
       "version_major": 2,
       "version_minor": 0
      },
      "text/plain": [
       "  0%|          | 0/5 [00:00<?, ?it/s]"
      ]
     },
     "metadata": {},
     "output_type": "display_data"
    }
   ],
   "source": [
    "dfs = []\n",
    "for st_code, csv_path in tqdm(csv_paths):\n",
    "  df = pd.read_csv(csv_path, dtype={'체결시간':str})[['체결시간', '시가', '고가', '저가', '현재가', '거래량']]\n",
    "  df.columns = ['dt', 'open', 'high', 'low', 'close', 'volume']\n",
    "  df['dt'] = pd.to_datetime(df['dt'], format='%Y%m%d%H%M%S')\n",
    "  df['st_code'] = st_code\n",
    "  for col in ['open', 'high', 'low', 'close', 'volume']:\n",
    "    df[col] = df[col].abs()\n",
    "  dfs.append(df)\n",
    "whole_df = pd.concat(dfs, ignore_index=True)"
   ]
  },
  {
   "cell_type": "markdown",
   "metadata": {},
   "source": [
    "# Insert 속도 테스트"
   ]
  },
  {
   "cell_type": "code",
   "execution_count": 4,
   "metadata": {},
   "outputs": [],
   "source": [
    "tree = elemTree.parse(r'../config/.config.xml')\n",
    "root = tree.getroot()\n",
    "node_mysql = root.find('./DBMS/mysql')\n",
    "config_db = {tag:node_mysql.find(tag).text for tag in ['host', 'user', 'password', 'database']}"
   ]
  },
  {
   "cell_type": "code",
   "execution_count": 9,
   "metadata": {},
   "outputs": [],
   "source": [
    "db_engine = create_engine(f'mysql+mysqlconnector://{config_db[\"user\"]}:{config_db[\"password\"]}@{config_db[\"host\"]}/{config_db[\"database\"]}')"
   ]
  },
  {
   "cell_type": "markdown",
   "metadata": {},
   "source": [
    "## SqlAlchemy + mysql8.0 + pd.DataFrame.to_sql()"
   ]
  },
  {
   "cell_type": "markdown",
   "metadata": {},
   "source": [
    "SqlAlchemy + mysql8.0 + pd.DataFrame.to_sql()\n",
    "- 2m 9s (1m 54s, 2m 2s, 2m 3s)"
   ]
  },
  {
   "cell_type": "code",
   "execution_count": 10,
   "metadata": {},
   "outputs": [
    {
     "data": {
      "text/plain": [
       "<sqlalchemy.engine.cursor.LegacyCursorResult at 0x16d405e0>"
      ]
     },
     "execution_count": 10,
     "metadata": {},
     "output_type": "execute_result"
    }
   ],
   "source": [
    "db_engine.execute('DROP TABLE IF EXISTS data_in_minute')"
   ]
  },
  {
   "cell_type": "code",
   "execution_count": 11,
   "metadata": {},
   "outputs": [],
   "source": [
    "table_query ='''\n",
    "CREATE TABLE `data_in_minute` (\n",
    "  `st_code` char(7) NOT NULL COMMENT '종목코드 (예: 005930)',\n",
    "  `dt` datetime NOT NULL COMMENT '타임스탬프 (타임존 무시)',\n",
    "  `open` int DEFAULT '0' COMMENT '시가',\n",
    "  `high` int DEFAULT '0' COMMENT '고가',\n",
    "  `low` int DEFAULT '0' COMMENT '저가',\n",
    "  `close` int DEFAULT '0' COMMENT '종가',\n",
    "  `volume` int DEFAULT '0' COMMENT '거래량',\n",
    "  PRIMARY KEY (`st_code`,`dt`) COMMENT '종목코드, dt의 클러스터형 인덱스'\n",
    ") ENGINE=InnoDB DEFAULT CHARSET=utf8mb3 COMMENT='분봉 데이터 (static)'\n",
    "'''"
   ]
  },
  {
   "cell_type": "code",
   "execution_count": 12,
   "metadata": {},
   "outputs": [
    {
     "data": {
      "text/plain": [
       "<sqlalchemy.engine.cursor.LegacyCursorResult at 0x66f2c88>"
      ]
     },
     "execution_count": 12,
     "metadata": {},
     "output_type": "execute_result"
    }
   ],
   "source": [
    "db_engine.execute(table_query)"
   ]
  },
  {
   "cell_type": "code",
   "execution_count": 13,
   "metadata": {},
   "outputs": [
    {
     "data": {
      "text/plain": [
       "-1"
      ]
     },
     "execution_count": 13,
     "metadata": {},
     "output_type": "execute_result"
    }
   ],
   "source": [
    "whole_df.to_sql(name='data_in_minute', con=db_engine, if_exists='append', index=False)"
   ]
  },
  {
   "cell_type": "markdown",
   "metadata": {},
   "source": [
    "## mysql-connector-python"
   ]
  },
  {
   "cell_type": "markdown",
   "metadata": {},
   "source": [
    "2m 56s, 3m 11s, 3m 10s, 3m 9s"
   ]
  },
  {
   "cell_type": "code",
   "execution_count": 14,
   "metadata": {},
   "outputs": [],
   "source": [
    "cnx = mysql.connector.connect(\n",
    "  user=config_db['user'], \n",
    "  password=config_db['password'], \n",
    "  host=config_db['host'], \n",
    "  database=config_db['database']\n",
    "  )"
   ]
  },
  {
   "cell_type": "code",
   "execution_count": 15,
   "metadata": {},
   "outputs": [],
   "source": [
    "cursor = cnx.cursor()"
   ]
  },
  {
   "cell_type": "code",
   "execution_count": 16,
   "metadata": {},
   "outputs": [],
   "source": [
    "cursor.execute('DROP TABLE IF EXISTS data_in_minute')\n",
    "cursor.execute(table_query)"
   ]
  },
  {
   "cell_type": "code",
   "execution_count": 17,
   "metadata": {},
   "outputs": [],
   "source": [
    "add_minute_data = (\n",
    "  \"INSERT INTO data_in_minute \"\n",
    "  \"(st_code, dt, open, high, low, close, volume) \"\n",
    "  \"VALUES (%s, %s, %s, %s, %s, %s, %s)\"\n",
    ")"
   ]
  },
  {
   "cell_type": "code",
   "execution_count": 18,
   "metadata": {},
   "outputs": [
    {
     "data": {
      "text/plain": [
       "True"
      ]
     },
     "execution_count": 18,
     "metadata": {},
     "output_type": "execute_result"
    }
   ],
   "source": [
    "for i, row in whole_df.iterrows():\n",
    "  cursor.execute(\n",
    "    add_minute_data, \n",
    "    (row['st_code'], \n",
    "    row['dt'].to_pydatetime(), \n",
    "    row['open'], \n",
    "    row['high'], \n",
    "    row['low'], \n",
    "    row['close'], \n",
    "    row['volume'])\n",
    "  )\n",
    "cnx.commit()\n",
    "\n",
    "cursor.close()"
   ]
  }
 ],
 "metadata": {
  "kernelspec": {
   "display_name": "Python 3.8.13 ('AIFT')",
   "language": "python",
   "name": "python3"
  },
  "language_info": {
   "codemirror_mode": {
    "name": "ipython",
    "version": 3
   },
   "file_extension": ".py",
   "mimetype": "text/x-python",
   "name": "python",
   "nbconvert_exporter": "python",
   "pygments_lexer": "ipython3",
   "version": "3.8.13"
  },
  "orig_nbformat": 4,
  "vscode": {
   "interpreter": {
    "hash": "0c2ae12c4346b2ecb9fec94e26809dda0e732ea1952ffa786ba8c03239bac9b3"
   }
  }
 },
 "nbformat": 4,
 "nbformat_minor": 2
}
