{
 "cells": [
  {
   "cell_type": "code",
   "execution_count": 1,
   "metadata": {},
   "outputs": [],
   "source": [
    "import pandas as pd\n",
    "from sqlalchemy import create_engine\n",
    "from tqdm.auto import tqdm"
   ]
  },
  {
   "cell_type": "markdown",
   "metadata": {},
   "source": [
    "# 주식체결 데이터 저장"
   ]
  },
  {
   "cell_type": "code",
   "execution_count": 11,
   "metadata": {},
   "outputs": [],
   "source": [
    "import pandas as pd\n",
    "from sqlalchemy import create_engine\n",
    "\n",
    "class TodayMinuteChartDataProvider:\n",
    "  table_query = '''\n",
    "  CREATE TABLE IF NOT EXISTS today_in_minute (\n",
    "    st_code TEXT not NULL,\n",
    "    dt TEXT not NULL,\n",
    "    open INTEGER,\n",
    "    high INTEGER,\n",
    "    low INTEGER,\n",
    "    close INTEGER,\n",
    "    volume INTEGER\n",
    "  )\n",
    "  '''\n",
    "  index_query = '''\n",
    "  CREATE INDEX IF NOT EXISTS idx_today_in_minute ON today_in_minute (st_code, dt)\n",
    "  '''\n",
    "\n",
    "  insert_query = '''\n",
    "  INSERT INTO today_in_minute (st_code, dt, open, high, low, close, volume)\n",
    "  VALUES (?, ?, ?, ?, ?, ?, ?)\n",
    "  '''\n",
    "\n",
    "  def __init__(self, engine):\n",
    "    pass\n",
    "\n",
    "\n",
    "class RealTimeTickDataPrivder:\n",
    "  table_query = '''\n",
    "  CREATE TABLE IF NOT EXISTS today_in_ticks (\n",
    "    st_code TEXT not NULL,\n",
    "    dt TEXT not NULL,\n",
    "    open INTEGER,\n",
    "    high INTEGER,\n",
    "    low INTEGER,\n",
    "    close INTEGER,\n",
    "    volume INTEGER\n",
    "  )\n",
    "  '''\n",
    "  index_query = '''\n",
    "  CREATE INDEX IF NOT EXISTS idx_today_in_ticks ON today_in_ticks (st_code, dt)\n",
    "  '''\n",
    "\n",
    "  insert_query = '''\n",
    "  INSERT INTO today_in_ticks (st_code, dt, open, high, low, close, volume)\n",
    "  VALUES (?, ?, ?, ?, ?, ?, ?)\n",
    "  '''\n",
    "\n",
    "  def __init__(self, db_path, in_memory_db = False, with_index=False):\n",
    "      self.engine = create_engine(f\"sqlite://\") if in_memory_db else create_engine(f\"sqlite:///{db_path}\")\n",
    "      self.with_index = with_index\n",
    "      self.create_table()\n",
    "\n",
    "  def clear_table(self):\n",
    "    with self.engine.connect() as connection:\n",
    "      connection.execute('DROP TABLE IF EXISTS today_in_ticks')\n",
    "      if self.with_index:\n",
    "        connection.execute('DROP INDEX IF EXISTS idx_today_in_ticks')\n",
    "\n",
    "  def create_table(self):\n",
    "    with self.engine.connect() as connection:\n",
    "      connection.execute(self.table_query)\n",
    "      connection.execute(self.index_query)\n",
    "  \n",
    "  def __build_data(self, real_data):\n",
    "    return (\n",
    "      real_data['code'],\n",
    "      real_data['20'], # 체결시간 (HHMMSS)\n",
    "      abs(int(real_data['16'])), # 시가 +-\n",
    "      abs(int(real_data['17'])), # 고가 +-\n",
    "      abs(int(real_data['18'])), # 저가 +-\n",
    "      abs(int(real_data['10'])), # 현재가 +-\n",
    "      abs(int(real_data['15'])), # 거래량 +-\n",
    "    )\n",
    "\n",
    "  def __build_dataframe(self, real_data):\n",
    "    return pd.DataFrame(\n",
    "      [self.__build_data(real_data)],\n",
    "      columns=['st_code', 'dt', 'open', 'high', 'low', 'close', 'volume']\n",
    "    )\n",
    "\n",
    "  def insert(self, real_data):\n",
    "    with self.engine.begin() as connection:\n",
    "      connection.execute(self.insert_query, self.__build_data(real_data))\n",
    "\n",
    "  def insert_by_dataframe(self, real_data):\n",
    "    self.build_dataframe(real_data).to_sql('today_in_ticks', self.engine, if_exists='append', index=False)"
   ]
  },
  {
   "cell_type": "code",
   "execution_count": 70,
   "metadata": {},
   "outputs": [],
   "source": [
    "real_data = {'code': '069500', 'type': '주식체결', '20': '100645', '16': '+31345', '17': '+31370', '18': '-31215', '10': ' 31275', '15': '+50', '11': ' 0', '12': '0.00', '13': '1613182'}"
   ]
  },
  {
   "cell_type": "code",
   "execution_count": 9,
   "metadata": {},
   "outputs": [],
   "source": [
    "provider = RealTimeTickDataPrivder(\"kiwoom_db.sqlite3\", in_memory_db=True, with_index=True)"
   ]
  },
  {
   "cell_type": "markdown",
   "metadata": {},
   "source": [
    "connection.execute()로 수행시\n",
    "- 인덱스 있을 때\n",
    "  - 10,000건 추가에 70초\n",
    "- 인덱스 없을 때\n",
    "  - 10,000건 추가에 65초\n",
    "- 인메모리\n",
    "  - 0.7초\n",
    "\n",
    "dataframe.to_sql()로 수행시\n",
    "- 인덱스 있을 때\n",
    "  - 10,000건 추가에 140초\n",
    "- 인덱스 없을 때\n",
    "  - 10,000건 추가에 141초\n",
    "- 인메모리\n",
    "  - 33초\n",
    "\n",
    "dataframe.to_sql()로 벌크 수행시 (10,000건)\n",
    "- 0.7초\n",
    "\n",
    "결론\n",
    "- 일정 주기 모아서 인서트 하는게 낫다\n",
    "- 인메모리 디비로 선택하고, 표준 SQL로 작업하는게 낫다"
   ]
  },
  {
   "cell_type": "code",
   "execution_count": 89,
   "metadata": {},
   "outputs": [],
   "source": [
    "for i in range(10000):\n",
    "  real_data['20'] = f\"{i:06d}\"\n",
    "  provider.insert1(real_data)"
   ]
  },
  {
   "cell_type": "code",
   "execution_count": 82,
   "metadata": {},
   "outputs": [],
   "source": [
    "for i in range(10000):\n",
    "  real_data['20'] = f\"{i:06d}\"\n",
    "  provider.insert2(real_data)"
   ]
  },
  {
   "cell_type": "code",
   "execution_count": 85,
   "metadata": {},
   "outputs": [],
   "source": [
    "ll = []\n",
    "for i in range(10000):\n",
    "  real_data['20'] = f\"{i:06d}\"\n",
    "  ll.append(provider.build_dataframe(real_data))"
   ]
  },
  {
   "cell_type": "code",
   "execution_count": 86,
   "metadata": {},
   "outputs": [
    {
     "data": {
      "text/plain": [
       "10000"
      ]
     },
     "execution_count": 86,
     "metadata": {},
     "output_type": "execute_result"
    }
   ],
   "source": [
    "pd.concat(ll, ignore_index=True).to_sql('today_in_ticks', provider.engine, if_exists='append', index=False)"
   ]
  },
  {
   "cell_type": "code",
   "execution_count": 87,
   "metadata": {},
   "outputs": [],
   "source": [
    "provider.clear_table()"
   ]
  },
  {
   "cell_type": "code",
   "execution_count": 88,
   "metadata": {},
   "outputs": [],
   "source": [
    "provider.create_table()"
   ]
  },
  {
   "cell_type": "code",
   "execution_count": 91,
   "metadata": {},
   "outputs": [],
   "source": [
    "with provider.engine.connect() as connection:\n",
    "  rr = connection.execute('select * from today_in_ticks').fetchall()"
   ]
  },
  {
   "cell_type": "markdown",
   "metadata": {},
   "source": [
    "# 체결데이터로부터 분봉 데이터 생성"
   ]
  },
  {
   "cell_type": "code",
   "execution_count": 1,
   "metadata": {},
   "outputs": [],
   "source": [
    "import re"
   ]
  },
  {
   "cell_type": "code",
   "execution_count": 2,
   "metadata": {},
   "outputs": [],
   "source": [
    "sample_file_path = r'c:\\Sungshin\\Lectures\\2022\\repos\\AIFT2022\\data\\주식체결_sample.txt'"
   ]
  },
  {
   "cell_type": "code",
   "execution_count": 3,
   "metadata": {},
   "outputs": [],
   "source": [
    "p = re.compile(r\".*([{]'code.*[}])\")"
   ]
  },
  {
   "cell_type": "code",
   "execution_count": 12,
   "metadata": {},
   "outputs": [],
   "source": [
    "provider = RealTimeTickDataPrivder(\"kiwoom_db.sqlite3\", in_memory_db=True, with_index=True)"
   ]
  },
  {
   "cell_type": "code",
   "execution_count": 13,
   "metadata": {},
   "outputs": [],
   "source": [
    "with open(sample_file_path, 'r', encoding='utf8') as f:\n",
    "  for line in f:\n",
    "    m = p.match(line)\n",
    "    if m:\n",
    "      # print(eval(m.group(1)))\n",
    "      provider.insert(eval(m.group(1)))"
   ]
  },
  {
   "cell_type": "code",
   "execution_count": 16,
   "metadata": {},
   "outputs": [
    {
     "data": {
      "text/plain": [
       "[('today_in_ticks',)]"
      ]
     },
     "execution_count": 16,
     "metadata": {},
     "output_type": "execute_result"
    }
   ],
   "source": [
    "provider.engine.execute('select name from sqlite_master where type=\"table\"').fetchall()"
   ]
  },
  {
   "cell_type": "code",
   "execution_count": 67,
   "metadata": {},
   "outputs": [],
   "source": [
    "with provider.engine.connect() as connection:\n",
    "  rr = connection.execute(\n",
    "  '''\n",
    "  select DISTINCT t.st_code, t.minute||'00',\n",
    "  first_value(t.close) over (partition by t.st_code, t.minute order by t.dt ROWS BETWEEN UNBOUNDED PRECEDING AND UNBOUNDED FOLLOWING) as open,\n",
    "  max(t.close) over (partition by t.st_code, t.minute order by t.dt ROWS BETWEEN UNBOUNDED PRECEDING AND UNBOUNDED FOLLOWING) as high,\n",
    "  min(t.close) over (partition by t.st_code, t.minute order by t.dt ROWS BETWEEN UNBOUNDED PRECEDING AND UNBOUNDED FOLLOWING) as low,\n",
    "  last_value(t.close) over (partition by t.st_code, t.minute order by t.dt ROWS BETWEEN UNBOUNDED PRECEDING AND UNBOUNDED FOLLOWING) as close\n",
    "  from (\n",
    "    select *, substr(dt, 0, 5) as minute from today_in_ticks substr\n",
    "    ) as t\n",
    "  '''\n",
    "  ).fetchall()"
   ]
  },
  {
   "cell_type": "code",
   "execution_count": 68,
   "metadata": {},
   "outputs": [
    {
     "data": {
      "text/plain": [
       "[('069500', '104800', 31315, 31335, 31315, 31330),\n",
       " ('069500', '104900', 31335, 31340, 31330, 31335),\n",
       " ('069500', '105000', 31330, 31340, 31330, 31340),\n",
       " ('069500', '105100', 31340, 31340, 31330, 31330),\n",
       " ('069500', '105200', 31325, 31350, 31325, 31345),\n",
       " ('069500', '105300', 31345, 31350, 31335, 31345),\n",
       " ('069500', '105400', 31350, 31350, 31345, 31350),\n",
       " ('069500', '105500', 31350, 31350, 31335, 31340),\n",
       " ('069500', '105600', 31340, 31345, 31330, 31335),\n",
       " ('069500', '105700', 31335, 31350, 31335, 31350),\n",
       " ('069500', '105800', 31345, 31370, 31345, 31360),\n",
       " ('069500', '105900', 31365, 31390, 31365, 31375),\n",
       " ('069500', '110000', 31375, 31375, 31360, 31370),\n",
       " ('069500', '110100', 31360, 31370, 31360, 31365),\n",
       " ('069500', '110200', 31360, 31370, 31360, 31360),\n",
       " ('069500', '110300', 31365, 31365, 31345, 31345),\n",
       " ('069500', '110400', 31340, 31355, 31340, 31350),\n",
       " ('069500', '110500', 31350, 31355, 31345, 31355),\n",
       " ('069500', '110600', 31350, 31350, 31345, 31345),\n",
       " ('069500', '110700', 31345, 31350, 31340, 31350),\n",
       " ('069500', '110800', 31340, 31355, 31340, 31350),\n",
       " ('069500', '110900', 31350, 31355, 31345, 31345),\n",
       " ('114800', '104800', 4925, 4925, 4915, 4920),\n",
       " ('114800', '104900', 4920, 4925, 4920, 4920),\n",
       " ('114800', '105000', 4920, 4920, 4920, 4920),\n",
       " ('114800', '105100', 4920, 4925, 4920, 4925),\n",
       " ('114800', '105200', 4925, 4925, 4920, 4920),\n",
       " ('114800', '105300', 4920, 4920, 4920, 4920),\n",
       " ('114800', '105400', 4920, 4920, 4920, 4920),\n",
       " ('114800', '105500', 4920, 4920, 4915, 4915),\n",
       " ('114800', '105600', 4915, 4925, 4915, 4925),\n",
       " ('114800', '105700', 4920, 4920, 4915, 4920),\n",
       " ('114800', '105800', 4920, 4920, 4910, 4910),\n",
       " ('114800', '105900', 4915, 4915, 4910, 4915),\n",
       " ('114800', '110000', 4915, 4915, 4910, 4915),\n",
       " ('114800', '110100', 4915, 4915, 4910, 4915),\n",
       " ('114800', '110200', 4915, 4920, 4910, 4920),\n",
       " ('114800', '110300', 4915, 4920, 4915, 4920),\n",
       " ('114800', '110400', 4915, 4920, 4915, 4920),\n",
       " ('114800', '110500', 4920, 4920, 4920, 4920),\n",
       " ('114800', '110600', 4920, 4920, 4920, 4920),\n",
       " ('114800', '110700', 4920, 4920, 4920, 4920),\n",
       " ('114800', '110800', 4920, 4920, 4915, 4915),\n",
       " ('114800', '110900', 4915, 4920, 4915, 4915),\n",
       " ('226490', '104800', 24510, 24510, 24510, 24510),\n",
       " ('226490', '105000', 24510, 24510, 24510, 24510),\n",
       " ('226490', '105100', 24490, 24490, 24490, 24490),\n",
       " ('226490', '105200', 24510, 24510, 24510, 24510),\n",
       " ('226490', '105500', 24530, 24530, 24530, 24530),\n",
       " ('226490', '105600', 24530, 24530, 24505, 24505),\n",
       " ('226490', '105900', 24550, 24550, 24550, 24550),\n",
       " ('226490', '110100', 24535, 24535, 24535, 24535),\n",
       " ('226490', '110400', 24525, 24525, 24525, 24525),\n",
       " ('226490', '110600', 24550, 24550, 24525, 24525)]"
      ]
     },
     "execution_count": 68,
     "metadata": {},
     "output_type": "execute_result"
    }
   ],
   "source": [
    "rr"
   ]
  },
  {
   "cell_type": "code",
   "execution_count": null,
   "metadata": {},
   "outputs": [],
   "source": [
    "provider.engine.execute('select * from today_in_ticks where st_code=\"069500\"').fetchall()"
   ]
  },
  {
   "cell_type": "code",
   "execution_count": null,
   "metadata": {},
   "outputs": [],
   "source": []
  }
 ],
 "metadata": {
  "kernelspec": {
   "display_name": "Python 3.8.13 ('AIFT')",
   "language": "python",
   "name": "python3"
  },
  "language_info": {
   "codemirror_mode": {
    "name": "ipython",
    "version": 3
   },
   "file_extension": ".py",
   "mimetype": "text/x-python",
   "name": "python",
   "nbconvert_exporter": "python",
   "pygments_lexer": "ipython3",
   "version": "3.8.13"
  },
  "orig_nbformat": 4,
  "vscode": {
   "interpreter": {
    "hash": "0c2ae12c4346b2ecb9fec94e26809dda0e732ea1952ffa786ba8c03239bac9b3"
   }
  }
 },
 "nbformat": 4,
 "nbformat_minor": 2
}
