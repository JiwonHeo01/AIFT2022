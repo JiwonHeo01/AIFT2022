{
 "cells": [
  {
   "cell_type": "code",
   "execution_count": 1,
   "metadata": {},
   "outputs": [],
   "source": [
    "import xml.etree.ElementTree as elemTree\n",
    "import os\n",
    "import sys\n",
    "tree = elemTree.parse(r'../config/.config.xml')\n",
    "root = tree.getroot()\n",
    "xx = root.find('./PATHS')\n",
    "work_path = xx.find('work').text\n",
    "sys.path.append(work_path)"
   ]
  },
  {
   "cell_type": "code",
   "execution_count": 2,
   "metadata": {},
   "outputs": [],
   "source": [
    "import pandas as pd\n",
    "from sqlalchemy import create_engine\n",
    "from tqdm.auto import tqdm\n",
    "from realtime_kiwoom.data_provider import *"
   ]
  },
  {
   "cell_type": "markdown",
   "metadata": {},
   "source": [
    "# 주식체결 데이터 실시간 인서트 테스트"
   ]
  },
  {
   "cell_type": "code",
   "execution_count": null,
   "metadata": {},
   "outputs": [],
   "source": [
    "real_data = {'code': '069500', 'type': '주식체결', '20': '100645', '16': '+31345', '17': '+31370', '18': '-31215', '10': ' 31275', '15': '+50', '11': ' 0', '12': '0.00', '13': '1613182'}"
   ]
  },
  {
   "cell_type": "code",
   "execution_count": null,
   "metadata": {},
   "outputs": [],
   "source": [
    "provider = RealTimeTickDataPrivder(\"kiwoom_db.sqlite3\", in_memory_db=True, with_index=True)"
   ]
  },
  {
   "cell_type": "markdown",
   "metadata": {},
   "source": [
    "connection.execute()로 수행시\n",
    "- 인덱스 있을 때\n",
    "  - 10,000건 추가에 70초\n",
    "- 인덱스 없을 때\n",
    "  - 10,000건 추가에 65초\n",
    "- 인메모리\n",
    "  - 0.7초\n",
    "\n",
    "dataframe.to_sql()로 수행시\n",
    "- 인덱스 있을 때\n",
    "  - 10,000건 추가에 140초\n",
    "- 인덱스 없을 때\n",
    "  - 10,000건 추가에 141초\n",
    "- 인메모리\n",
    "  - 33초\n",
    "\n",
    "dataframe.to_sql()로 벌크 수행시 (10,000건)\n",
    "- 0.7초\n",
    "\n",
    "결론\n",
    "- 일정 주기 모아서 인서트 하는게 낫다\n",
    "- 인메모리 디비로 선택하고, 표준 SQL로 작업하는게 낫다"
   ]
  },
  {
   "cell_type": "code",
   "execution_count": null,
   "metadata": {},
   "outputs": [],
   "source": [
    "for i in range(10000):\n",
    "  real_data['20'] = f\"{i:06d}\"\n",
    "  provider.insert(real_data)"
   ]
  },
  {
   "cell_type": "code",
   "execution_count": null,
   "metadata": {},
   "outputs": [],
   "source": [
    "for i in range(10000):\n",
    "  real_data['20'] = f\"{i:06d}\"\n",
    "  provider.insert_by_dataframe(real_data)"
   ]
  },
  {
   "cell_type": "markdown",
   "metadata": {},
   "source": [
    "# 주식 체결데이터로부터 분봉 데이터 생성"
   ]
  },
  {
   "cell_type": "code",
   "execution_count": null,
   "metadata": {},
   "outputs": [],
   "source": [
    "import re"
   ]
  },
  {
   "cell_type": "code",
   "execution_count": null,
   "metadata": {},
   "outputs": [],
   "source": [
    "sample_file_path = r'..\\data\\주식체결_sample.txt'"
   ]
  },
  {
   "cell_type": "code",
   "execution_count": null,
   "metadata": {},
   "outputs": [],
   "source": [
    "p = re.compile(r\".*([{]'code.*[}])\")"
   ]
  },
  {
   "cell_type": "code",
   "execution_count": null,
   "metadata": {},
   "outputs": [],
   "source": [
    "provider = RealTimeTickDataPrivder(\"kiwoom_db.sqlite3\", in_memory_db=True, with_index=True)"
   ]
  },
  {
   "cell_type": "code",
   "execution_count": null,
   "metadata": {},
   "outputs": [],
   "source": [
    "with open(sample_file_path, 'r', encoding='utf8') as f:\n",
    "  for line in f:\n",
    "    m = p.match(line)\n",
    "    if m:\n",
    "      # print(eval(m.group(1)))\n",
    "      provider.insert(eval(m.group(1)))"
   ]
  },
  {
   "cell_type": "code",
   "execution_count": null,
   "metadata": {},
   "outputs": [],
   "source": [
    "provider.engine.execute('SELECT count(*) cnt FROM today_in_ticks').fetchall()"
   ]
  },
  {
   "cell_type": "code",
   "execution_count": null,
   "metadata": {},
   "outputs": [],
   "source": [
    "provider.engine.execute('select dt from today_in_ticks order by dt desc limit 1 ').fetchall()"
   ]
  },
  {
   "cell_type": "code",
   "execution_count": null,
   "metadata": {},
   "outputs": [],
   "source": [
    "provider.engine.execute('select name from sqlite_master where type=\"table\"').fetchall()"
   ]
  },
  {
   "cell_type": "code",
   "execution_count": null,
   "metadata": {},
   "outputs": [],
   "source": [
    "with provider.engine.connect() as connection:\n",
    "  rr = connection.execute(\n",
    "  '''\n",
    "  select DISTINCT t.st_code, t.minute||'00' as ts,\n",
    "  first_value(t.close) over (partition by t.st_code, t.minute order by t.dt ROWS BETWEEN UNBOUNDED PRECEDING AND UNBOUNDED FOLLOWING) as open,\n",
    "  max(t.close) over (partition by t.st_code, t.minute order by t.dt ROWS BETWEEN UNBOUNDED PRECEDING AND UNBOUNDED FOLLOWING) as high,\n",
    "  min(t.close) over (partition by t.st_code, t.minute order by t.dt ROWS BETWEEN UNBOUNDED PRECEDING AND UNBOUNDED FOLLOWING) as low,\n",
    "  last_value(t.close) over (partition by t.st_code, t.minute order by t.dt ROWS BETWEEN UNBOUNDED PRECEDING AND UNBOUNDED FOLLOWING) as close\n",
    "  from (\n",
    "    select *, substr(dt, 0, 5) as minute from today_in_ticks substr\n",
    "    ) as t\n",
    "  '''\n",
    "  ).fetchall()"
   ]
  },
  {
   "cell_type": "code",
   "execution_count": null,
   "metadata": {},
   "outputs": [],
   "source": [
    "df = pd.DataFrame(rr, columns=['code', 'dt', 'open', 'high', 'low', 'close'])"
   ]
  },
  {
   "cell_type": "code",
   "execution_count": null,
   "metadata": {},
   "outputs": [],
   "source": [
    "provider.query(\n",
    "  '''\n",
    "  select DISTINCT t.st_code, t.minute||'00' as ts,\n",
    "  first_value(t.close) over (partition by t.st_code, t.minute order by t.dt ROWS BETWEEN UNBOUNDED PRECEDING AND UNBOUNDED FOLLOWING) as open,\n",
    "  max(t.close) over (partition by t.st_code, t.minute order by t.dt ROWS BETWEEN UNBOUNDED PRECEDING AND UNBOUNDED FOLLOWING) as high,\n",
    "  min(t.close) over (partition by t.st_code, t.minute order by t.dt ROWS BETWEEN UNBOUNDED PRECEDING AND UNBOUNDED FOLLOWING) as low,\n",
    "  last_value(t.close) over (partition by t.st_code, t.minute order by t.dt ROWS BETWEEN UNBOUNDED PRECEDING AND UNBOUNDED FOLLOWING) as close\n",
    "  from (\n",
    "    select *, substr(dt, 0, 5) as minute from today_in_ticks substr\n",
    "    ) as t\n",
    "  '''  \n",
    ")"
   ]
  },
  {
   "cell_type": "code",
   "execution_count": null,
   "metadata": {},
   "outputs": [],
   "source": [
    "df.query(\"code=='069500'\").plot(x='dt', y=['open', 'high', 'low', 'close'])"
   ]
  },
  {
   "cell_type": "code",
   "execution_count": null,
   "metadata": {},
   "outputs": [],
   "source": [
    "provider.engine.execute('select * from today_in_ticks where st_code=\"069500\"').fetchall()"
   ]
  },
  {
   "cell_type": "code",
   "execution_count": null,
   "metadata": {},
   "outputs": [],
   "source": [
    "import plotly.graph_objects as go"
   ]
  },
  {
   "cell_type": "code",
   "execution_count": null,
   "metadata": {},
   "outputs": [],
   "source": [
    "fig = go.Figure(data=[go.Candlestick(x=df.query(\"code=='069500'\")['dt'],\n",
    "                open=df.query(\"code=='069500'\")['open'],\n",
    "                high=df.query(\"code=='069500'\")['high'],\n",
    "                low=df.query(\"code=='069500'\")['low'],\n",
    "                close=df.query(\"code=='069500'\")['close'])])\n",
    "fig.show()"
   ]
  },
  {
   "cell_type": "markdown",
   "metadata": {},
   "source": [
    "# 결합 테스트\n",
    "\n",
    "스태틱 소스\n",
    "- 어제까지 확보한 분봉 데이터 (TR 요청):: db/kiwoom_db.sqlite3:data_in_minute\n",
    "- 오늘 장중에 확보한 분봉 데이터 (TR 요청):: db/kiwoom_db.sqlite3:today_in_minute\n",
    "    - 장해 등으로 장중 (예: 11시)에 재접속 시 생성\n",
    "        - TR요청으로 수집 \n",
    "\n",
    "동적 소스\n",
    "- 오늘 실시간 틱 데이터:: 인메모리 디비:today_in_ticks\n",
    "- 오늘 틱 데이터로부터 생성한 분봉 데이터:: 인메모리 디비:today_in_minute \n",
    "\n",
    "결합\n",
    "- `정적저장소`:data_in_minute + today_in_minute + `인메모리`:today_in_minute"
   ]
  },
  {
   "cell_type": "code",
   "execution_count": null,
   "metadata": {},
   "outputs": [],
   "source": []
  },
  {
   "cell_type": "markdown",
   "metadata": {},
   "source": [
    "# 임시테스트"
   ]
  },
  {
   "cell_type": "code",
   "execution_count": null,
   "metadata": {},
   "outputs": [],
   "source": [
    "t1 = pd.Timestamp('2022-09-21 11:15:23', tz='Asia/Seoul')"
   ]
  },
  {
   "cell_type": "code",
   "execution_count": null,
   "metadata": {},
   "outputs": [],
   "source": [
    "t2 = pd.Timestamp('2022-09-21 11:16:00', tz='Asia/Seoul')"
   ]
  },
  {
   "cell_type": "code",
   "execution_count": null,
   "metadata": {},
   "outputs": [],
   "source": [
    "t1.minute"
   ]
  },
  {
   "cell_type": "code",
   "execution_count": null,
   "metadata": {},
   "outputs": [],
   "source": [
    "t2.minute"
   ]
  },
  {
   "cell_type": "code",
   "execution_count": null,
   "metadata": {},
   "outputs": [],
   "source": [
    "xx = [1,2,3]"
   ]
  },
  {
   "cell_type": "code",
   "execution_count": null,
   "metadata": {},
   "outputs": [],
   "source": [
    "xx.pop(0)"
   ]
  },
  {
   "cell_type": "code",
   "execution_count": null,
   "metadata": {},
   "outputs": [],
   "source": [
    "xx"
   ]
  },
  {
   "cell_type": "code",
   "execution_count": null,
   "metadata": {},
   "outputs": [],
   "source": [
    "t1"
   ]
  },
  {
   "cell_type": "code",
   "execution_count": null,
   "metadata": {},
   "outputs": [],
   "source": [
    "t1.second"
   ]
  },
  {
   "cell_type": "code",
   "execution_count": null,
   "metadata": {},
   "outputs": [],
   "source": []
  }
 ],
 "metadata": {
  "kernelspec": {
   "display_name": "Python 3.8.13 ('AIFT')",
   "language": "python",
   "name": "python3"
  },
  "language_info": {
   "codemirror_mode": {
    "name": "ipython",
    "version": 3
   },
   "file_extension": ".py",
   "mimetype": "text/x-python",
   "name": "python",
   "nbconvert_exporter": "python",
   "pygments_lexer": "ipython3",
   "version": "3.8.13"
  },
  "orig_nbformat": 4,
  "vscode": {
   "interpreter": {
    "hash": "0c2ae12c4346b2ecb9fec94e26809dda0e732ea1952ffa786ba8c03239bac9b3"
   }
  }
 },
 "nbformat": 4,
 "nbformat_minor": 2
}
