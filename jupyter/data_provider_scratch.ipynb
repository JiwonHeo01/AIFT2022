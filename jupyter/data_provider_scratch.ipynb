{
 "cells": [
  {
   "cell_type": "code",
   "execution_count": 1,
   "metadata": {},
   "outputs": [],
   "source": [
    "import xml.etree.ElementTree as elemTree\n",
    "import os\n",
    "import sys\n",
    "tree = elemTree.parse(r'../config/.config.xml')\n",
    "root = tree.getroot()\n",
    "xx = root.find('./PATHS')\n",
    "work_path = xx.find('work').text\n",
    "sys.path.append(work_path)"
   ]
  },
  {
   "cell_type": "code",
   "execution_count": 2,
   "metadata": {},
   "outputs": [],
   "source": [
    "import pandas as pd\n",
    "from sqlalchemy import create_engine\n",
    "from tqdm.auto import tqdm\n",
    "from realtime_kiwoom.data_provider import *\n",
    "import re"
   ]
  },
  {
   "cell_type": "markdown",
   "metadata": {},
   "source": [
    "# TF로 부터 얻은 분봉 데이터"
   ]
  },
  {
   "cell_type": "code",
   "execution_count": 3,
   "metadata": {},
   "outputs": [],
   "source": [
    "tree = elemTree.parse(r'../config/.config.xml')\n",
    "root = tree.getroot()\n",
    "node_sqlite3 = root.find('./DBMS/sqlite3')\n",
    "config_db = {tag:node_sqlite3.find(tag).text for tag in ['database']}"
   ]
  },
  {
   "cell_type": "code",
   "execution_count": 4,
   "metadata": {},
   "outputs": [
    {
     "data": {
      "text/plain": [
       "{'database': 'db\\\\kiwoom_db.sqlite3'}"
      ]
     },
     "execution_count": 4,
     "metadata": {},
     "output_type": "execute_result"
    }
   ],
   "source": [
    "config_db"
   ]
  },
  {
   "cell_type": "code",
   "execution_count": 5,
   "metadata": {},
   "outputs": [
    {
     "data": {
      "text/plain": [
       "'c:\\\\Sungshin\\\\Lectures\\\\2022\\\\repos\\\\AIFT2022\\\\db\\\\kiwoom_db.sqlite3'"
      ]
     },
     "execution_count": 5,
     "metadata": {},
     "output_type": "execute_result"
    }
   ],
   "source": [
    "os.path.join(work_path, config_db['database'])"
   ]
  },
  {
   "cell_type": "code",
   "execution_count": 6,
   "metadata": {},
   "outputs": [],
   "source": [
    "csv_paths = [ \n",
    "  ('069500', r'..\\data\\kodex_200.csv'),\n",
    "  ('114800', r'..\\data\\kodex_inverse.csv'),\n",
    "  ('226490', r'..\\data\\kodex_kospi.csv'),\n",
    "  ('001', r'..\\data\\kospi.csv'),\n",
    "  ('201', r'..\\data\\kospi200.csv')\n",
    "]"
   ]
  },
  {
   "cell_type": "code",
   "execution_count": 7,
   "metadata": {},
   "outputs": [],
   "source": [
    "provider_ = MinuteChartDataProvider(db_path=os.path.join(work_path, config_db['database']), table_name='data_in_minute', drop_table=False)"
   ]
  },
  {
   "cell_type": "code",
   "execution_count": 8,
   "metadata": {},
   "outputs": [],
   "source": [
    "last_dt = provider_.query(f\"SELECT dt FROM {provider_.table_name} WHERE st_code='069500' ORDER BY dt DESC LIMIT 1\")"
   ]
  },
  {
   "cell_type": "code",
   "execution_count": 12,
   "metadata": {},
   "outputs": [],
   "source": [
    "df = pd.read_csv(csv_paths[0][1], dtype={'체결시간':str})"
   ]
  },
  {
   "cell_type": "code",
   "execution_count": null,
   "metadata": {},
   "outputs": [],
   "source": [
    "df.rename(columns={'체결시간':'dt'}, inplace=True)"
   ]
  },
  {
   "cell_type": "code",
   "execution_count": 19,
   "metadata": {},
   "outputs": [
    {
     "data": {
      "text/plain": [
       "'dt > \"20220923153000\"'"
      ]
     },
     "execution_count": 19,
     "metadata": {},
     "output_type": "execute_result"
    }
   ],
   "source": [
    "f'dt > \"{last_dt[\"dt\"][0]}\"'"
   ]
  },
  {
   "cell_type": "code",
   "execution_count": 20,
   "metadata": {},
   "outputs": [
    {
     "data": {
      "text/html": [
       "<div>\n",
       "<style scoped>\n",
       "    .dataframe tbody tr th:only-of-type {\n",
       "        vertical-align: middle;\n",
       "    }\n",
       "\n",
       "    .dataframe tbody tr th {\n",
       "        vertical-align: top;\n",
       "    }\n",
       "\n",
       "    .dataframe thead th {\n",
       "        text-align: right;\n",
       "    }\n",
       "</style>\n",
       "<table border=\"1\" class=\"dataframe\">\n",
       "  <thead>\n",
       "    <tr style=\"text-align: right;\">\n",
       "      <th></th>\n",
       "      <th>현재가</th>\n",
       "      <th>거래량</th>\n",
       "      <th>dt</th>\n",
       "      <th>시가</th>\n",
       "      <th>고가</th>\n",
       "      <th>저가</th>\n",
       "      <th>수정주가구분</th>\n",
       "      <th>수정비율</th>\n",
       "      <th>대업종구분</th>\n",
       "      <th>소업종구분</th>\n",
       "      <th>종목정보</th>\n",
       "      <th>수정주가이벤트</th>\n",
       "      <th>전일종가</th>\n",
       "    </tr>\n",
       "  </thead>\n",
       "  <tbody>\n",
       "  </tbody>\n",
       "</table>\n",
       "</div>"
      ],
      "text/plain": [
       "Empty DataFrame\n",
       "Columns: [현재가, 거래량, dt, 시가, 고가, 저가, 수정주가구분, 수정비율, 대업종구분, 소업종구분, 종목정보, 수정주가이벤트, 전일종가]\n",
       "Index: []"
      ]
     },
     "execution_count": 20,
     "metadata": {},
     "output_type": "execute_result"
    }
   ],
   "source": [
    "df.query(f'dt > \"{last_dt[\"dt\"][0]}\"') if len(last_dt) > 0 else df"
   ]
  },
  {
   "cell_type": "code",
   "execution_count": null,
   "metadata": {},
   "outputs": [],
   "source": [
    "minute_data_provider1 = MinuteChartDataProvider(db_path=os.path.join(work_path, config_db['database']), table_name='data_in_minute', drop_table=True)"
   ]
  },
  {
   "cell_type": "code",
   "execution_count": null,
   "metadata": {},
   "outputs": [],
   "source": [
    "minute_data_provider1.query(f'select count(*) cnt from {minute_data_provider1.table_name}')"
   ]
  },
  {
   "cell_type": "code",
   "execution_count": null,
   "metadata": {},
   "outputs": [],
   "source": [
    "# dfs = []\n",
    "for st_code, csv_path in tqdm(csv_paths):\n",
    "  df = pd.read_csv(csv_path, dtype={'체결시간':str})\n",
    "  # df = minute_data_provider.filter_from_raw_data(df, st_code)\n",
    "  minute_data_provider1.insert_by_dataframe(df, st_code)\n",
    "  # dfs.append(df)\n",
    "# whole_df = pd.concat(dfs, ignore_index=True)"
   ]
  },
  {
   "cell_type": "code",
   "execution_count": null,
   "metadata": {},
   "outputs": [],
   "source": [
    "history_df = minute_data_provider1.query(f'select * from {minute_data_provider1.table_name} where dt > \"20220101000000\" order by dt asc')"
   ]
  },
  {
   "cell_type": "code",
   "execution_count": null,
   "metadata": {},
   "outputs": [],
   "source": [
    "history_df"
   ]
  },
  {
   "cell_type": "code",
   "execution_count": null,
   "metadata": {},
   "outputs": [],
   "source": [
    "history_df.query('st_code==\"069500\"').plot(x='dt', y='close')"
   ]
  },
  {
   "cell_type": "markdown",
   "metadata": {},
   "source": [
    "# 주식 체결데이터로부터 분봉 데이터 생성"
   ]
  },
  {
   "cell_type": "code",
   "execution_count": null,
   "metadata": {},
   "outputs": [],
   "source": [
    "sample_file_path = r'..\\data\\주식체결_sample.txt'\n",
    "p = re.compile(r\".*([{]'code.*[}])\")\n",
    "provider = RealTimeTickDataPrivder()"
   ]
  },
  {
   "cell_type": "code",
   "execution_count": null,
   "metadata": {},
   "outputs": [],
   "source": [
    "with open(sample_file_path, 'r', encoding='utf8') as f:\n",
    "  for line in f:\n",
    "    m = p.match(line)\n",
    "    if m:\n",
    "      # print(eval(m.group(1)))\n",
    "      provider.insert_by_query(eval(m.group(1)))"
   ]
  },
  {
   "cell_type": "markdown",
   "metadata": {},
   "source": [
    "# 조회 쿼리"
   ]
  },
  {
   "cell_type": "markdown",
   "metadata": {},
   "source": [
    "현재 삽임된 레코드 수 (틱)"
   ]
  },
  {
   "cell_type": "code",
   "execution_count": null,
   "metadata": {},
   "outputs": [],
   "source": [
    "provider.query('SELECT count(*) cnt FROM today_in_ticks')"
   ]
  },
  {
   "cell_type": "markdown",
   "metadata": {},
   "source": [
    "마지막 체결 시각 (틱)"
   ]
  },
  {
   "cell_type": "code",
   "execution_count": null,
   "metadata": {},
   "outputs": [],
   "source": [
    "provider.query('select dt from today_in_ticks order by dt desc limit 1 ')"
   ]
  },
  {
   "cell_type": "markdown",
   "metadata": {},
   "source": [
    "존재하는 테이블 조회"
   ]
  },
  {
   "cell_type": "code",
   "execution_count": null,
   "metadata": {},
   "outputs": [],
   "source": [
    "provider.query('select name from sqlite_master where type=\"table\"')"
   ]
  },
  {
   "cell_type": "markdown",
   "metadata": {},
   "source": [
    "틱을 분봉으로 조회하는 쿼리"
   ]
  },
  {
   "cell_type": "code",
   "execution_count": null,
   "metadata": {},
   "outputs": [],
   "source": [
    "today_df = provider.make_minute_chart_df()"
   ]
  },
  {
   "cell_type": "code",
   "execution_count": null,
   "metadata": {},
   "outputs": [],
   "source": [
    "import plotly.graph_objects as go"
   ]
  },
  {
   "cell_type": "code",
   "execution_count": null,
   "metadata": {},
   "outputs": [],
   "source": [
    "fig = go.Figure(data=[go.Candlestick(x=df.query(\"st_code=='069500'\")['dt'],\n",
    "                open=df.query(\"st_code=='069500'\")['open'],\n",
    "                high=df.query(\"st_code=='069500'\")['high'],\n",
    "                low=df.query(\"st_code=='069500'\")['low'],\n",
    "                close=df.query(\"st_code=='069500'\")['close'])])\n",
    "fig.show()"
   ]
  },
  {
   "cell_type": "code",
   "execution_count": null,
   "metadata": {},
   "outputs": [],
   "source": [
    "history_df.query(\"st_code=='069500'\")"
   ]
  },
  {
   "cell_type": "code",
   "execution_count": null,
   "metadata": {},
   "outputs": [],
   "source": [
    "today_df.query('st_code==\"069500\"')"
   ]
  },
  {
   "cell_type": "code",
   "execution_count": null,
   "metadata": {},
   "outputs": [],
   "source": [
    "df = pd.concat((history_df.query(\"st_code=='069500'\"), today_df.query('st_code==\"069500\"')), ignore_index=True)"
   ]
  },
  {
   "cell_type": "markdown",
   "metadata": {},
   "source": [
    "# 결합 테스트\n",
    "\n",
    "스태틱 소스\n",
    "- 어제까지 확보한 분봉 데이터 (TR 요청):: db/kiwoom_db.sqlite3:data_in_minute\n",
    "- 오늘 장중에 확보한 분봉 데이터 (TR 요청):: db/kiwoom_db.sqlite3:today_in_minute\n",
    "    - 장해 등으로 장중 (예: 11시)에 재접속 시 생성\n",
    "        - TR요청으로 수집 \n",
    "\n",
    "동적 소스\n",
    "- 오늘 실시간 틱 데이터:: 인메모리 디비:today_in_ticks\n",
    "- 오늘 틱 데이터로부터 생성한 분봉 데이터:: 인메모리 디비:today_in_minute \n",
    "\n",
    "결합\n",
    "- `정적저장소`:data_in_minute + today_in_minute + `인메모리`:today_in_minute"
   ]
  },
  {
   "cell_type": "code",
   "execution_count": null,
   "metadata": {},
   "outputs": [],
   "source": [
    "provider.query(f\"select count(*) from {provider.table_name}\")"
   ]
  },
  {
   "cell_type": "code",
   "execution_count": null,
   "metadata": {},
   "outputs": [],
   "source": [
    "merged_df = pd.concat((history_df.query(\"st_code=='069500'\"),\n",
    "today_df.query('st_code==\"069500\"')), ignore_index=True)"
   ]
  },
  {
   "cell_type": "code",
   "execution_count": null,
   "metadata": {},
   "outputs": [],
   "source": [
    "merged_df.head()"
   ]
  },
  {
   "cell_type": "markdown",
   "metadata": {},
   "source": [
    "## 의의로...  SQLite3 -> Pandas 로딩후 dt를 Timestamp 변환시 시간 걸림\n",
    "\n",
    "- 2000 행에 대해 요청시, 399ms 걸림"
   ]
  },
  {
   "cell_type": "code",
   "execution_count": null,
   "metadata": {},
   "outputs": [],
   "source": [
    "pd.to_datetime(merged_df[-2000:]['dt'], format='%Y%m%d%H%M%S')"
   ]
  },
  {
   "cell_type": "markdown",
   "metadata": {},
   "source": [
    "작전\n",
    "- 장시작전: 어제까지의 분봉 데이터는 SQL -> pd.DataFrame 변환 해 둔다. (DataProvider 역할)\n",
    "- 장중: 오늘의 분봉 데이터를 SQlite3 -> pd.DataFrame 변환한다. (DataProvider 역할)\n",
    "- 합친다."
   ]
  }
 ],
 "metadata": {
  "kernelspec": {
   "display_name": "Python 3.8.13 ('AIFT')",
   "language": "python",
   "name": "python3"
  },
  "language_info": {
   "codemirror_mode": {
    "name": "ipython",
    "version": 3
   },
   "file_extension": ".py",
   "mimetype": "text/x-python",
   "name": "python",
   "nbconvert_exporter": "python",
   "pygments_lexer": "ipython3",
   "version": "3.8.13"
  },
  "orig_nbformat": 4,
  "vscode": {
   "interpreter": {
    "hash": "0c2ae12c4346b2ecb9fec94e26809dda0e732ea1952ffa786ba8c03239bac9b3"
   }
  }
 },
 "nbformat": 4,
 "nbformat_minor": 2
}
